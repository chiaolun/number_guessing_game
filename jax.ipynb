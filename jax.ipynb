{
 "cells": [
  {
   "cell_type": "markdown",
   "id": "0896e181",
   "metadata": {},
   "source": [
    "## The Art of Strategy by Avinash Dixit and Barry Nalebuff\n",
    "\n",
    "Guess the number that I picked, an integer between 1 and 100. After each of your guesses, I’ll tell you if the number you guessed is higher or lower than the number I picked. Game would start with \\\\$100 prize money and reduce \\\\$20 for each wrong guess. So \\\\$100 for first guess, \\\\$80 for second, etc etc."
   ]
  },
  {
   "cell_type": "markdown",
   "id": "5c45f084",
   "metadata": {},
   "source": [
    "Given a distribution for the number, I can solve for the optimal strategy using recursion. The probability of winning is a function of the number of guesses remaining in the interval and the interval.\n",
    "Value of the whole game is $V(5, 1, 100)$\n",
    "\n",
    "$$\n",
    "V(n, i, j) = \\max_k \\left( \\text{pdf}(k) \\cdot \\max(0, 20 \\cdot n) \n",
    "+ \\text{cdf}(i, k-1) \\cdot V(n-1, i, k-1) \n",
    "+ \\text{cdf}(k+1, j) \\cdot V(n-1, k+1, j) \\right)\n",
    "$$\n",
    "\n",
    "$$V(0, i, j) = 0$$"
   ]
  },
  {
   "cell_type": "code",
   "execution_count": 1,
   "id": "cff3b267",
   "metadata": {},
   "outputs": [],
   "source": [
    "import pandas as pd\n",
    "import jax\n",
    "import jax.numpy as jnp"
   ]
  },
  {
   "cell_type": "code",
   "execution_count": 2,
   "id": "cb5d635f",
   "metadata": {},
   "outputs": [],
   "source": [
    "nguesses = 5\n",
    "N = 10"
   ]
  },
  {
   "cell_type": "code",
   "execution_count": 3,
   "id": "d4b71fdb",
   "metadata": {},
   "outputs": [],
   "source": [
    "@jax.jit\n",
    "def optimal_guess(pdf):\n",
    "    V = jnp.zeros((nguesses + 1, N, N))\n",
    "    \n",
    "    # Pre-compute cumulative sums\n",
    "    cumsum = jnp.cumsum(pdf)\n",
    "    \n",
    "    def get_range_sum(i, j):\n",
    "        return cumsum[j] - jnp.where(i > 0, cumsum[i-1], 0)\n",
    "    \n",
    "    def compute_value(n, i, j, k):\n",
    "        direct_reward = pdf[k] * n * 20\n",
    "        left_mask = k > i \n",
    "        right_mask = k < j\n",
    "        \n",
    "        left_sum = get_range_sum(i, k-1)\n",
    "        right_sum = get_range_sum(k+1, j)\n",
    "        \n",
    "        left_contribution = jnp.where(left_mask, left_sum * V[n-1, i, k-1], 0)\n",
    "        right_contribution = jnp.where(right_mask, right_sum * V[n-1, k+1, j], 0)\n",
    "        \n",
    "        return direct_reward + left_contribution + right_contribution\n",
    "    \n",
    "    for n in range(1, nguesses + 1):\n",
    "        for i in range(N):\n",
    "            for j in range(i, N):\n",
    "                k_range = jnp.arange(i, j + 1)\n",
    "                values = jax.vmap(lambda k: compute_value(n, i, j, k))(k_range)\n",
    "                V = V.at[n,i,j].set(jnp.max(values))\n",
    "    \n",
    "    return V"
   ]
  },
  {
   "cell_type": "code",
   "execution_count": 4,
   "id": "e1ae7919",
   "metadata": {},
   "outputs": [],
   "source": [
    "pdf = jnp.ones(N) / N"
   ]
  },
  {
   "cell_type": "code",
   "execution_count": 5,
   "id": "cb4307b6",
   "metadata": {},
   "outputs": [
    {
     "name": "stdout",
     "output_type": "stream",
     "text": [
      "CPU times: user 5.16 s, sys: 143 ms, total: 5.3 s\n",
      "Wall time: 4.13 s\n"
     ]
    },
    {
     "data": {
      "text/plain": [
       "Array(24.140804, dtype=float32)"
      ]
     },
     "execution_count": 5,
     "metadata": {},
     "output_type": "execute_result"
    }
   ],
   "source": [
    "%%time\n",
    "V = optimal_guess(pdf)\n",
    "V[nguesses, 0, N - 1]"
   ]
  },
  {
   "cell_type": "code",
   "execution_count": 6,
   "id": "663fb66b",
   "metadata": {},
   "outputs": [],
   "source": [
    "# Get gradient of V[nguesses, 0, N-1] with respect to pdf\n",
    "# Use log-transform to ensure positivity and softmax to ensure sum to 1\n",
    "def transform_params(x):\n",
    "    return jax.nn.softmax(x)\n",
    "\n",
    "# Initialize parameters in log space\n",
    "init_params = jnp.log(pdf + 1e-8)  # Add small constant for numerical stability\n",
    "\n",
    "@jax.jit\n",
    "def objective(params):\n",
    "    transformed_pdf = transform_params(params)\n",
    "    V = optimal_guess(transformed_pdf)\n",
    "    return V[nguesses, 0, N - 1]"
   ]
  },
  {
   "cell_type": "code",
   "execution_count": 7,
   "id": "37342d92",
   "metadata": {},
   "outputs": [
    {
     "name": "stdout",
     "output_type": "stream",
     "text": [
      "Step 0, Value: 24.11521339416504\n",
      "Step 10, Value: 23.472721099853516\n",
      "Step 20, Value: 23.158540725708008\n",
      "Step 30, Value: 22.967437744140625\n",
      "Step 40, Value: 22.78668785095215\n",
      "Step 50, Value: 22.77311897277832\n",
      "Step 60, Value: 22.742786407470703\n",
      "Step 70, Value: 22.72612953186035\n",
      "Step 80, Value: 22.75032615661621\n",
      "Step 90, Value: 22.747798919677734\n",
      "Step 100, Value: 22.749523162841797\n",
      "Step 110, Value: 22.75847053527832\n",
      "Step 120, Value: 22.760089874267578\n",
      "Step 130, Value: 22.746824264526367\n",
      "Step 140, Value: 22.735126495361328\n",
      "Step 150, Value: 22.73162841796875\n",
      "Step 160, Value: 22.746870040893555\n",
      "Step 170, Value: 22.741182327270508\n",
      "Step 180, Value: 22.732181549072266\n",
      "Step 190, Value: 22.723711013793945\n",
      "Step 200, Value: 22.719886779785156\n",
      "Step 210, Value: 22.716022491455078\n",
      "Step 220, Value: 22.720096588134766\n",
      "Step 230, Value: 22.73832130432129\n",
      "Step 240, Value: 22.749826431274414\n",
      "Step 250, Value: 22.768917083740234\n",
      "Step 260, Value: 22.75494956970215\n",
      "Step 270, Value: 22.766115188598633\n",
      "\n",
      "Stopping early at step 270 due to no significant improvement\n",
      "\n",
      "Final objective value: 22.715794\n",
      "Optimized PDF: [0.07596239 0.09058813 0.10318152 0.11209419 0.1179244  0.11810681\n",
      " 0.11217431 0.10290619 0.0907719  0.07629021]\n"
     ]
    }
   ],
   "source": [
    "# Use built-in Adam optimizer from optax\n",
    "import optax\n",
    "\n",
    "# Initialize optimizer\n",
    "learning_rate = 0.01\n",
    "optimizer = optax.adam(learning_rate)\n",
    "opt_state = optimizer.init(init_params)\n",
    "\n",
    "# Training loop parameters\n",
    "num_steps = 100\n",
    "improvement_threshold = 1e-6\n",
    "patience = 5\n",
    "window_size = 10\n",
    "\n",
    "best_value = float('inf')\n",
    "best_params = init_params\n",
    "recent_values = []\n",
    "no_improvement_count = 0\n",
    "\n",
    "params = init_params\n",
    "step = 0\n",
    "\n",
    "while True:\n",
    "    # Compute gradient and update parameters\n",
    "    gradient = jax.grad(objective)(params)\n",
    "    updates, opt_state = optimizer.update(gradient, opt_state)\n",
    "    params = optax.apply_updates(params, updates)\n",
    "    \n",
    "    # Evaluate current solution\n",
    "    value = objective(params)\n",
    "    \n",
    "    # Keep track of best solution\n",
    "    if value < best_value:\n",
    "        best_value = value\n",
    "        best_params = params\n",
    "    \n",
    "    if step % 10 == 0:\n",
    "        print(f\"Step {step}, Value: {value}\")\n",
    "        recent_values.append(value)\n",
    "        \n",
    "        if len(recent_values) > window_size:\n",
    "            # Check if there's been significant improvement in the last window\n",
    "            improvement = recent_values[-window_size] - recent_values[-1]\n",
    "            if improvement < improvement_threshold:\n",
    "                no_improvement_count += 1\n",
    "            else:\n",
    "                no_improvement_count = 0\n",
    "            \n",
    "            if no_improvement_count >= patience:\n",
    "                print(f\"\\nStopping early at step {step} due to no significant improvement\")\n",
    "                break\n",
    "            \n",
    "            recent_values.pop(0)  # Remove oldest value\n",
    "    \n",
    "    step += 1\n",
    "# Get final optimized PDF\n",
    "final_pdf = transform_params(best_params)\n",
    "print(\"\\nFinal objective value:\", best_value)\n",
    "print(\"Optimized PDF:\", final_pdf)"
   ]
  },
  {
   "cell_type": "code",
   "execution_count": 8,
   "id": "c0ef5c3f",
   "metadata": {},
   "outputs": [
    {
     "data": {
      "text/plain": [
       "<Axes: >"
      ]
     },
     "execution_count": 8,
     "metadata": {},
     "output_type": "execute_result"
    },
    {
     "data": {
      "image/png": "[encoded data removed]",
      "text/plain": [
       "<Figure size 640x480 with 1 Axes>"
      ]
     },
     "metadata": {},
     "output_type": "display_data"
    }
   ],
   "source": [
    "pd.Series(final_pdf).plot.bar()"
   ]
  }
 ],
 "metadata": {
  "kernelspec": {
   "display_name": "Python 3 (ipykernel)",
   "language": "python",
   "name": "python3"
  },
  "language_info": {
   "codemirror_mode": {
    "name": "ipython",
    "version": 3
   },
   "file_extension": ".py",
   "mimetype": "text/x-python",
   "name": "python",
   "nbconvert_exporter": "python",
   "pygments_lexer": "ipython3",
   "version": "3.12.8"
  }
 },
 "nbformat": 4,
 "nbformat_minor": 5
}
